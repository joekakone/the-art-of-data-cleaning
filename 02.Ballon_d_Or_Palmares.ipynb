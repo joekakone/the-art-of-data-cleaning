{
  "nbformat": 4,
  "nbformat_minor": 0,
  "metadata": {
    "colab": {
      "name": "Ballon d'Or Palmares.ipynb",
      "provenance": [],
      "collapsed_sections": [],
      "authorship_tag": "ABX9TyMQaPgaf3zIIJkfE5bTw1KZ"
    },
    "kernelspec": {
      "name": "python3",
      "display_name": "Python 3"
    },
    "language_info": {
      "name": "python"
    }
  },
  "cells": [
    {
      "cell_type": "markdown",
      "metadata": {
        "id": "vr28YhJGtuDk"
      },
      "source": [
        "# Ballon d'Or Palmares\n",
        "Data source: [Sport-histoire.fr](https://www.sport-histoire.fr/Sport/Football/Palmares/Ballon_or.php)"
      ]
    },
    {
      "cell_type": "code",
      "metadata": {
        "id": "fWNmJqJlt3XW"
      },
      "source": [
        "import requests\n",
        "from bs4 import BeautifulSoup\n",
        "import pandas as pd"
      ],
      "execution_count": 18,
      "outputs": []
    },
    {
      "cell_type": "markdown",
      "metadata": {
        "id": "2S7oQl8ttWbI"
      },
      "source": [
        "## 1. Get Data"
      ]
    },
    {
      "cell_type": "markdown",
      "metadata": {
        "id": "Bxa4xkwDyoRM"
      },
      "source": [
        "**Paths & Config**"
      ]
    },
    {
      "cell_type": "code",
      "metadata": {
        "id": "OP_Ps4ctymta"
      },
      "source": [
        "URL = \"https://www.sport-histoire.fr/Sport/Football/Palmares/Ballon_or.php\"\n",
        "DATA = \"balon-d-or-palmares.csv\""
      ],
      "execution_count": 19,
      "outputs": []
    },
    {
      "cell_type": "markdown",
      "metadata": {
        "id": "rurtnl9Yu9Kh"
      },
      "source": [
        "**Retreive page HTML code source**"
      ]
    },
    {
      "cell_type": "code",
      "metadata": {
        "id": "A5i7BRn2t2R4"
      },
      "source": [
        "# Retreive source code\n",
        "source = requests.get(URL)\n",
        "# Convert into bs4 object\n",
        "soup = BeautifulSoup(source.text, \"html.parser\")\n",
        "# Extract table\n",
        "table = soup.find(\"table\", {\"class\": \"table-responsive-sm\"})"
      ],
      "execution_count": 20,
      "outputs": []
    },
    {
      "cell_type": "markdown",
      "metadata": {
        "id": "Wu-xONyEvBZf"
      },
      "source": [
        "**Convert into Pandas DataFrame**"
      ]
    },
    {
      "cell_type": "code",
      "metadata": {
        "colab": {
          "base_uri": "https://localhost:8080/",
          "height": 355
        },
        "id": "uXAV5YDAu1oE",
        "outputId": "f6dded5a-00f9-44a2-cdb8-8b14402c0d7d"
      },
      "source": [
        "data = pd.read_html(str(table))[0]\n",
        "data.sample(10)"
      ],
      "execution_count": 21,
      "outputs": [
        {
          "output_type": "execute_result",
          "data": {
            "text/html": [
              "<div>\n",
              "<style scoped>\n",
              "    .dataframe tbody tr th:only-of-type {\n",
              "        vertical-align: middle;\n",
              "    }\n",
              "\n",
              "    .dataframe tbody tr th {\n",
              "        vertical-align: top;\n",
              "    }\n",
              "\n",
              "    .dataframe thead th {\n",
              "        text-align: right;\n",
              "    }\n",
              "</style>\n",
              "<table border=\"1\" class=\"dataframe\">\n",
              "  <thead>\n",
              "    <tr style=\"text-align: right;\">\n",
              "      <th></th>\n",
              "      <th>Année</th>\n",
              "      <th>Joueur récompensé</th>\n",
              "      <th>Pays</th>\n",
              "      <th>Club</th>\n",
              "    </tr>\n",
              "  </thead>\n",
              "  <tbody>\n",
              "    <tr>\n",
              "      <th>26</th>\n",
              "      <td>1994</td>\n",
              "      <td>Hristo Stoitchkov</td>\n",
              "      <td>Bulgarie</td>\n",
              "      <td>FC Barcelone</td>\n",
              "    </tr>\n",
              "    <tr>\n",
              "      <th>27</th>\n",
              "      <td>1993</td>\n",
              "      <td>Roberto Baggio</td>\n",
              "      <td>Italie</td>\n",
              "      <td>Juventus</td>\n",
              "    </tr>\n",
              "    <tr>\n",
              "      <th>4</th>\n",
              "      <td>2015</td>\n",
              "      <td>Lionel Messi</td>\n",
              "      <td>Argentine</td>\n",
              "      <td>FC Barcelone</td>\n",
              "    </tr>\n",
              "    <tr>\n",
              "      <th>18</th>\n",
              "      <td>2002</td>\n",
              "      <td>Ronaldo</td>\n",
              "      <td>Brésil</td>\n",
              "      <td>Real Madrid</td>\n",
              "    </tr>\n",
              "    <tr>\n",
              "      <th>12</th>\n",
              "      <td>2008</td>\n",
              "      <td>Cristiano Ronaldo</td>\n",
              "      <td>Portugal</td>\n",
              "      <td>Manchester United</td>\n",
              "    </tr>\n",
              "    <tr>\n",
              "      <th>53</th>\n",
              "      <td>1968</td>\n",
              "      <td>George Best</td>\n",
              "      <td>Irlande du Nord</td>\n",
              "      <td>Manchester United</td>\n",
              "    </tr>\n",
              "    <tr>\n",
              "      <th>13</th>\n",
              "      <td>2007</td>\n",
              "      <td>Kaka</td>\n",
              "      <td>Brésil</td>\n",
              "      <td>Milan AC</td>\n",
              "    </tr>\n",
              "    <tr>\n",
              "      <th>51</th>\n",
              "      <td>1970</td>\n",
              "      <td>Gerhard Müller</td>\n",
              "      <td>Allemagne</td>\n",
              "      <td>Bayern Munich</td>\n",
              "    </tr>\n",
              "    <tr>\n",
              "      <th>49</th>\n",
              "      <td>1972</td>\n",
              "      <td>Franz Beckenbauer</td>\n",
              "      <td>Allemagne</td>\n",
              "      <td>Bayern Munich</td>\n",
              "    </tr>\n",
              "    <tr>\n",
              "      <th>23</th>\n",
              "      <td>1997</td>\n",
              "      <td>Ronaldo</td>\n",
              "      <td>Brésil</td>\n",
              "      <td>Inter Milan</td>\n",
              "    </tr>\n",
              "  </tbody>\n",
              "</table>\n",
              "</div>"
            ],
            "text/plain": [
              "   Année  Joueur récompensé             Pays               Club\n",
              "26  1994  Hristo Stoitchkov         Bulgarie       FC Barcelone\n",
              "27  1993     Roberto Baggio           Italie           Juventus\n",
              "4   2015       Lionel Messi        Argentine       FC Barcelone\n",
              "18  2002            Ronaldo           Brésil        Real Madrid\n",
              "12  2008  Cristiano Ronaldo         Portugal  Manchester United\n",
              "53  1968        George Best  Irlande du Nord  Manchester United\n",
              "13  2007               Kaka           Brésil           Milan AC\n",
              "51  1970     Gerhard Müller        Allemagne      Bayern Munich\n",
              "49  1972  Franz Beckenbauer        Allemagne      Bayern Munich\n",
              "23  1997            Ronaldo           Brésil        Inter Milan"
            ]
          },
          "metadata": {},
          "execution_count": 21
        }
      ]
    },
    {
      "cell_type": "markdown",
      "metadata": {
        "id": "4-qxESHsvoU3"
      },
      "source": [
        "## 2. Clean Data"
      ]
    },
    {
      "cell_type": "code",
      "metadata": {
        "colab": {
          "base_uri": "https://localhost:8080/",
          "height": 414
        },
        "id": "_R1aczrShcn_",
        "outputId": "d9802eda-b01d-4bb2-b81c-1bcbf6652d50"
      },
      "source": [
        "data[\"is_correct\"] = data[\"Année\"].apply(lambda x: len(x)==4)\n",
        "data = data[data[\"is_correct\"]]\n",
        "data = data.drop([\"is_correct\"], axis=1)\n",
        "data"
      ],
      "execution_count": 22,
      "outputs": [
        {
          "output_type": "execute_result",
          "data": {
            "text/html": [
              "<div>\n",
              "<style scoped>\n",
              "    .dataframe tbody tr th:only-of-type {\n",
              "        vertical-align: middle;\n",
              "    }\n",
              "\n",
              "    .dataframe tbody tr th {\n",
              "        vertical-align: top;\n",
              "    }\n",
              "\n",
              "    .dataframe thead th {\n",
              "        text-align: right;\n",
              "    }\n",
              "</style>\n",
              "<table border=\"1\" class=\"dataframe\">\n",
              "  <thead>\n",
              "    <tr style=\"text-align: right;\">\n",
              "      <th></th>\n",
              "      <th>Année</th>\n",
              "      <th>Joueur récompensé</th>\n",
              "      <th>Pays</th>\n",
              "      <th>Club</th>\n",
              "    </tr>\n",
              "  </thead>\n",
              "  <tbody>\n",
              "    <tr>\n",
              "      <th>0</th>\n",
              "      <td>2019</td>\n",
              "      <td>Lionel Messi</td>\n",
              "      <td>Argentine</td>\n",
              "      <td>FC Barcelone</td>\n",
              "    </tr>\n",
              "    <tr>\n",
              "      <th>1</th>\n",
              "      <td>2018</td>\n",
              "      <td>Luka Modrić</td>\n",
              "      <td>Croatie</td>\n",
              "      <td>Real Madrid</td>\n",
              "    </tr>\n",
              "    <tr>\n",
              "      <th>2</th>\n",
              "      <td>2017</td>\n",
              "      <td>Cristiano Ronaldo</td>\n",
              "      <td>Portugal</td>\n",
              "      <td>Real Madrid</td>\n",
              "    </tr>\n",
              "    <tr>\n",
              "      <th>3</th>\n",
              "      <td>2016</td>\n",
              "      <td>Cristiano Ronaldo</td>\n",
              "      <td>Portugal</td>\n",
              "      <td>Real Madrid</td>\n",
              "    </tr>\n",
              "    <tr>\n",
              "      <th>4</th>\n",
              "      <td>2015</td>\n",
              "      <td>Lionel Messi</td>\n",
              "      <td>Argentine</td>\n",
              "      <td>FC Barcelone</td>\n",
              "    </tr>\n",
              "    <tr>\n",
              "      <th>...</th>\n",
              "      <td>...</td>\n",
              "      <td>...</td>\n",
              "      <td>...</td>\n",
              "      <td>...</td>\n",
              "    </tr>\n",
              "    <tr>\n",
              "      <th>61</th>\n",
              "      <td>1960</td>\n",
              "      <td>Luis Suarez</td>\n",
              "      <td>Espagne</td>\n",
              "      <td>FC Barcelone</td>\n",
              "    </tr>\n",
              "    <tr>\n",
              "      <th>62</th>\n",
              "      <td>1959</td>\n",
              "      <td>Alfredo Di Stefano</td>\n",
              "      <td>Argentine/Espagne</td>\n",
              "      <td>Real Madrid</td>\n",
              "    </tr>\n",
              "    <tr>\n",
              "      <th>63</th>\n",
              "      <td>1958</td>\n",
              "      <td>Raymond Kopa</td>\n",
              "      <td>France</td>\n",
              "      <td>Real Madrid</td>\n",
              "    </tr>\n",
              "    <tr>\n",
              "      <th>64</th>\n",
              "      <td>1957</td>\n",
              "      <td>Alfredo Di Stefano</td>\n",
              "      <td>Argentine/Espagne</td>\n",
              "      <td>Real Madrid</td>\n",
              "    </tr>\n",
              "    <tr>\n",
              "      <th>65</th>\n",
              "      <td>1956</td>\n",
              "      <td>Stanley Matthews</td>\n",
              "      <td>Angleterre</td>\n",
              "      <td>Blackpool</td>\n",
              "    </tr>\n",
              "  </tbody>\n",
              "</table>\n",
              "<p>64 rows × 4 columns</p>\n",
              "</div>"
            ],
            "text/plain": [
              "   Année   Joueur récompensé               Pays          Club\n",
              "0   2019        Lionel Messi          Argentine  FC Barcelone\n",
              "1   2018         Luka Modrić            Croatie   Real Madrid\n",
              "2   2017   Cristiano Ronaldo           Portugal   Real Madrid\n",
              "3   2016   Cristiano Ronaldo           Portugal   Real Madrid\n",
              "4   2015        Lionel Messi          Argentine  FC Barcelone\n",
              "..   ...                 ...                ...           ...\n",
              "61  1960         Luis Suarez            Espagne  FC Barcelone\n",
              "62  1959  Alfredo Di Stefano  Argentine/Espagne   Real Madrid\n",
              "63  1958        Raymond Kopa             France   Real Madrid\n",
              "64  1957  Alfredo Di Stefano  Argentine/Espagne   Real Madrid\n",
              "65  1956    Stanley Matthews         Angleterre     Blackpool\n",
              "\n",
              "[64 rows x 4 columns]"
            ]
          },
          "metadata": {},
          "execution_count": 22
        }
      ]
    },
    {
      "cell_type": "markdown",
      "metadata": {
        "id": "oy7olG3vPFAB"
      },
      "source": [
        "## 3. Save data"
      ]
    },
    {
      "cell_type": "code",
      "metadata": {
        "id": "mzZ2EsgPO3wt"
      },
      "source": [
        "# Save raw data\n",
        "data.to_csv(DATA, index=False)"
      ],
      "execution_count": 23,
      "outputs": []
    }
  ]
}