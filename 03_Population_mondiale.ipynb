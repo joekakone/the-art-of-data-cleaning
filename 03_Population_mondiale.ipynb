{
  "nbformat": 4,
  "nbformat_minor": 0,
  "metadata": {
    "colab": {
      "name": "Population mondiale.ipynb",
      "provenance": [],
      "collapsed_sections": [],
      "authorship_tag": "ABX9TyOeEZnjt/TZwp1rnc9FJ3Ff"
    },
    "kernelspec": {
      "name": "python3",
      "display_name": "Python 3"
    },
    "language_info": {
      "name": "python"
    }
  },
  "cells": [
    {
      "cell_type": "markdown",
      "metadata": {
        "id": "vr28YhJGtuDk"
      },
      "source": [
        "# Population mondiale\n",
        "Data source: [Wikipedia](https://fr.wikipedia.org/wiki/Liste_des_pays_par_population)\n",
        "\n",
        "![](https://upload.wikimedia.org/wikipedia/commons/thumb/8/8b/Population_balls_%28narrow%29.png/800px-Population_balls_%28narrow%29.png)"
      ]
    },
    {
      "cell_type": "code",
      "metadata": {
        "id": "fWNmJqJlt3XW"
      },
      "source": [
        "import requests\n",
        "from bs4 import BeautifulSoup\n",
        "import pandas as pd"
      ],
      "execution_count": 1,
      "outputs": []
    },
    {
      "cell_type": "markdown",
      "metadata": {
        "id": "2S7oQl8ttWbI"
      },
      "source": [
        "## 1. Get Data"
      ]
    },
    {
      "cell_type": "markdown",
      "metadata": {
        "id": "Bxa4xkwDyoRM"
      },
      "source": [
        "**Paths & Config**"
      ]
    },
    {
      "cell_type": "code",
      "metadata": {
        "id": "OP_Ps4ctymta"
      },
      "source": [
        "URL = \"https://fr.wikipedia.org/wiki/Liste_des_pays_par_population\"\n",
        "DATA = \"demographie.csv\""
      ],
      "execution_count": 2,
      "outputs": []
    },
    {
      "cell_type": "markdown",
      "metadata": {
        "id": "rurtnl9Yu9Kh"
      },
      "source": [
        "**Retreive page HTML code source**"
      ]
    },
    {
      "cell_type": "code",
      "metadata": {
        "id": "A5i7BRn2t2R4"
      },
      "source": [
        "# Retreive source code\n",
        "source = requests.get(URL)\n",
        "# Convert into bs4 object\n",
        "soup = BeautifulSoup(source.text, \"html.parser\")\n",
        "# Extract table\n",
        "table = soup.find(\"table\", {\"class\": \"wikitable\"})"
      ],
      "execution_count": 3,
      "outputs": []
    },
    {
      "cell_type": "markdown",
      "metadata": {
        "id": "Wu-xONyEvBZf"
      },
      "source": [
        "**Convert into Pandas DataFrame**"
      ]
    },
    {
      "cell_type": "code",
      "metadata": {
        "colab": {
          "base_uri": "https://localhost:8080/",
          "height": 200
        },
        "id": "uXAV5YDAu1oE",
        "outputId": "6f32c6f9-39dd-4f5c-ac76-7c6e7c567db0"
      },
      "source": [
        "data = pd.read_html(str(table), encoding=\"utf-8\")[0]\n",
        "data.head()"
      ],
      "execution_count": 4,
      "outputs": [
        {
          "output_type": "execute_result",
          "data": {
            "text/html": [
              "<div>\n",
              "<style scoped>\n",
              "    .dataframe tbody tr th:only-of-type {\n",
              "        vertical-align: middle;\n",
              "    }\n",
              "\n",
              "    .dataframe tbody tr th {\n",
              "        vertical-align: top;\n",
              "    }\n",
              "\n",
              "    .dataframe thead th {\n",
              "        text-align: right;\n",
              "    }\n",
              "</style>\n",
              "<table border=\"1\" class=\"dataframe\">\n",
              "  <thead>\n",
              "    <tr style=\"text-align: right;\">\n",
              "      <th></th>\n",
              "      <th>Rang</th>\n",
              "      <th>Pays ou territoire</th>\n",
              "      <th>Population en 2021 (projections de l'ONU de 2019)[2]</th>\n",
              "    </tr>\n",
              "  </thead>\n",
              "  <tbody>\n",
              "    <tr>\n",
              "      <th>0</th>\n",
              "      <td>-</td>\n",
              "      <td>Monde</td>\n",
              "      <td>7 874 966 000</td>\n",
              "    </tr>\n",
              "    <tr>\n",
              "      <th>1</th>\n",
              "      <td>1</td>\n",
              "      <td>Chine[a]</td>\n",
              "      <td>1 444 216 000</td>\n",
              "    </tr>\n",
              "    <tr>\n",
              "      <th>2</th>\n",
              "      <td>2</td>\n",
              "      <td>Inde</td>\n",
              "      <td>1 393 409 000</td>\n",
              "    </tr>\n",
              "    <tr>\n",
              "      <th>3</th>\n",
              "      <td>3</td>\n",
              "      <td>États-Unis[b]</td>\n",
              "      <td>332 915 000</td>\n",
              "    </tr>\n",
              "    <tr>\n",
              "      <th>4</th>\n",
              "      <td>4</td>\n",
              "      <td>Indonésie</td>\n",
              "      <td>276 362 000</td>\n",
              "    </tr>\n",
              "  </tbody>\n",
              "</table>\n",
              "</div>"
            ],
            "text/plain": [
              "  Rang Pays ou territoire Population en 2021 (projections de l'ONU de 2019)[2]\n",
              "0    -              Monde                                      7 874 966 000  \n",
              "1    1           Chine[a]                                      1 444 216 000  \n",
              "2    2               Inde                                      1 393 409 000  \n",
              "3    3      États-Unis[b]                                        332 915 000  \n",
              "4    4          Indonésie                                        276 362 000  "
            ]
          },
          "metadata": {},
          "execution_count": 4
        }
      ]
    },
    {
      "cell_type": "code",
      "metadata": {
        "colab": {
          "base_uri": "https://localhost:8080/"
        },
        "id": "2P-_VBuB6foh",
        "outputId": "4bcfaafa-7c48-4703-aa64-20f7788fe54e"
      },
      "source": [
        "data.info()"
      ],
      "execution_count": 5,
      "outputs": [
        {
          "output_type": "stream",
          "name": "stdout",
          "text": [
            "<class 'pandas.core.frame.DataFrame'>\n",
            "RangeIndex: 236 entries, 0 to 235\n",
            "Data columns (total 3 columns):\n",
            " #   Column                                                Non-Null Count  Dtype \n",
            "---  ------                                                --------------  ----- \n",
            " 0   Rang                                                  236 non-null    object\n",
            " 1   Pays ou territoire                                    236 non-null    object\n",
            " 2   Population en 2021 (projections de l'ONU de 2019)[2]  236 non-null    object\n",
            "dtypes: object(3)\n",
            "memory usage: 5.7+ KB\n"
          ]
        }
      ]
    },
    {
      "cell_type": "markdown",
      "metadata": {
        "id": "4-qxESHsvoU3"
      },
      "source": [
        "## 2. Clean Data"
      ]
    },
    {
      "cell_type": "code",
      "metadata": {
        "colab": {
          "base_uri": "https://localhost:8080/",
          "height": 200
        },
        "id": "t8Ue9_EM6o00",
        "outputId": "da8f8f68-2f58-42b6-a767-85ee43da27ab"
      },
      "source": [
        "# Rename columns\n",
        "data.columns = [\"Rang\", \"Pays\", \"Population\"]\n",
        "data.head()"
      ],
      "execution_count": 6,
      "outputs": [
        {
          "output_type": "execute_result",
          "data": {
            "text/html": [
              "<div>\n",
              "<style scoped>\n",
              "    .dataframe tbody tr th:only-of-type {\n",
              "        vertical-align: middle;\n",
              "    }\n",
              "\n",
              "    .dataframe tbody tr th {\n",
              "        vertical-align: top;\n",
              "    }\n",
              "\n",
              "    .dataframe thead th {\n",
              "        text-align: right;\n",
              "    }\n",
              "</style>\n",
              "<table border=\"1\" class=\"dataframe\">\n",
              "  <thead>\n",
              "    <tr style=\"text-align: right;\">\n",
              "      <th></th>\n",
              "      <th>Rang</th>\n",
              "      <th>Pays</th>\n",
              "      <th>Population</th>\n",
              "    </tr>\n",
              "  </thead>\n",
              "  <tbody>\n",
              "    <tr>\n",
              "      <th>0</th>\n",
              "      <td>-</td>\n",
              "      <td>Monde</td>\n",
              "      <td>7 874 966 000</td>\n",
              "    </tr>\n",
              "    <tr>\n",
              "      <th>1</th>\n",
              "      <td>1</td>\n",
              "      <td>Chine[a]</td>\n",
              "      <td>1 444 216 000</td>\n",
              "    </tr>\n",
              "    <tr>\n",
              "      <th>2</th>\n",
              "      <td>2</td>\n",
              "      <td>Inde</td>\n",
              "      <td>1 393 409 000</td>\n",
              "    </tr>\n",
              "    <tr>\n",
              "      <th>3</th>\n",
              "      <td>3</td>\n",
              "      <td>États-Unis[b]</td>\n",
              "      <td>332 915 000</td>\n",
              "    </tr>\n",
              "    <tr>\n",
              "      <th>4</th>\n",
              "      <td>4</td>\n",
              "      <td>Indonésie</td>\n",
              "      <td>276 362 000</td>\n",
              "    </tr>\n",
              "  </tbody>\n",
              "</table>\n",
              "</div>"
            ],
            "text/plain": [
              "  Rang           Pays     Population\n",
              "0    -          Monde  7 874 966 000\n",
              "1    1       Chine[a]  1 444 216 000\n",
              "2    2           Inde  1 393 409 000\n",
              "3    3  États-Unis[b]    332 915 000\n",
              "4    4      Indonésie    276 362 000"
            ]
          },
          "metadata": {},
          "execution_count": 6
        }
      ]
    },
    {
      "cell_type": "code",
      "metadata": {
        "colab": {
          "base_uri": "https://localhost:8080/",
          "height": 200
        },
        "id": "BayMsCQw6z9V",
        "outputId": "d461b876-48d8-417a-e090-e2588be28b87"
      },
      "source": [
        "# Remove first row\n",
        "data.drop([0], axis=0, inplace=True)\n",
        "data.head()"
      ],
      "execution_count": 7,
      "outputs": [
        {
          "output_type": "execute_result",
          "data": {
            "text/html": [
              "<div>\n",
              "<style scoped>\n",
              "    .dataframe tbody tr th:only-of-type {\n",
              "        vertical-align: middle;\n",
              "    }\n",
              "\n",
              "    .dataframe tbody tr th {\n",
              "        vertical-align: top;\n",
              "    }\n",
              "\n",
              "    .dataframe thead th {\n",
              "        text-align: right;\n",
              "    }\n",
              "</style>\n",
              "<table border=\"1\" class=\"dataframe\">\n",
              "  <thead>\n",
              "    <tr style=\"text-align: right;\">\n",
              "      <th></th>\n",
              "      <th>Rang</th>\n",
              "      <th>Pays</th>\n",
              "      <th>Population</th>\n",
              "    </tr>\n",
              "  </thead>\n",
              "  <tbody>\n",
              "    <tr>\n",
              "      <th>1</th>\n",
              "      <td>1</td>\n",
              "      <td>Chine[a]</td>\n",
              "      <td>1 444 216 000</td>\n",
              "    </tr>\n",
              "    <tr>\n",
              "      <th>2</th>\n",
              "      <td>2</td>\n",
              "      <td>Inde</td>\n",
              "      <td>1 393 409 000</td>\n",
              "    </tr>\n",
              "    <tr>\n",
              "      <th>3</th>\n",
              "      <td>3</td>\n",
              "      <td>États-Unis[b]</td>\n",
              "      <td>332 915 000</td>\n",
              "    </tr>\n",
              "    <tr>\n",
              "      <th>4</th>\n",
              "      <td>4</td>\n",
              "      <td>Indonésie</td>\n",
              "      <td>276 362 000</td>\n",
              "    </tr>\n",
              "    <tr>\n",
              "      <th>5</th>\n",
              "      <td>5</td>\n",
              "      <td>Pakistan</td>\n",
              "      <td>225 200 000</td>\n",
              "    </tr>\n",
              "  </tbody>\n",
              "</table>\n",
              "</div>"
            ],
            "text/plain": [
              "  Rang           Pays     Population\n",
              "1    1       Chine[a]  1 444 216 000\n",
              "2    2           Inde  1 393 409 000\n",
              "3    3  États-Unis[b]    332 915 000\n",
              "4    4      Indonésie    276 362 000\n",
              "5    5       Pakistan    225 200 000"
            ]
          },
          "metadata": {},
          "execution_count": 7
        }
      ]
    },
    {
      "cell_type": "code",
      "metadata": {
        "colab": {
          "base_uri": "https://localhost:8080/",
          "height": 200
        },
        "id": "zgqFY2EN7aW3",
        "outputId": "1f25303e-8756-45a0-b1d1-0dddb5dc055c"
      },
      "source": [
        "# Remove [*]\n",
        "data[\"Pays\"] = data[\"Pays\"].apply(lambda x: x.split(\"[\")[0])\n",
        "data.head()"
      ],
      "execution_count": 8,
      "outputs": [
        {
          "output_type": "execute_result",
          "data": {
            "text/html": [
              "<div>\n",
              "<style scoped>\n",
              "    .dataframe tbody tr th:only-of-type {\n",
              "        vertical-align: middle;\n",
              "    }\n",
              "\n",
              "    .dataframe tbody tr th {\n",
              "        vertical-align: top;\n",
              "    }\n",
              "\n",
              "    .dataframe thead th {\n",
              "        text-align: right;\n",
              "    }\n",
              "</style>\n",
              "<table border=\"1\" class=\"dataframe\">\n",
              "  <thead>\n",
              "    <tr style=\"text-align: right;\">\n",
              "      <th></th>\n",
              "      <th>Rang</th>\n",
              "      <th>Pays</th>\n",
              "      <th>Population</th>\n",
              "    </tr>\n",
              "  </thead>\n",
              "  <tbody>\n",
              "    <tr>\n",
              "      <th>1</th>\n",
              "      <td>1</td>\n",
              "      <td>Chine</td>\n",
              "      <td>1 444 216 000</td>\n",
              "    </tr>\n",
              "    <tr>\n",
              "      <th>2</th>\n",
              "      <td>2</td>\n",
              "      <td>Inde</td>\n",
              "      <td>1 393 409 000</td>\n",
              "    </tr>\n",
              "    <tr>\n",
              "      <th>3</th>\n",
              "      <td>3</td>\n",
              "      <td>États-Unis</td>\n",
              "      <td>332 915 000</td>\n",
              "    </tr>\n",
              "    <tr>\n",
              "      <th>4</th>\n",
              "      <td>4</td>\n",
              "      <td>Indonésie</td>\n",
              "      <td>276 362 000</td>\n",
              "    </tr>\n",
              "    <tr>\n",
              "      <th>5</th>\n",
              "      <td>5</td>\n",
              "      <td>Pakistan</td>\n",
              "      <td>225 200 000</td>\n",
              "    </tr>\n",
              "  </tbody>\n",
              "</table>\n",
              "</div>"
            ],
            "text/plain": [
              "  Rang        Pays     Population\n",
              "1    1       Chine  1 444 216 000\n",
              "2    2        Inde  1 393 409 000\n",
              "3    3  États-Unis    332 915 000\n",
              "4    4   Indonésie    276 362 000\n",
              "5    5    Pakistan    225 200 000"
            ]
          },
          "metadata": {},
          "execution_count": 8
        }
      ]
    },
    {
      "cell_type": "code",
      "metadata": {
        "colab": {
          "base_uri": "https://localhost:8080/",
          "height": 200
        },
        "id": "_R1aczrShcn_",
        "outputId": "700fe5e7-a843-4e20-bad9-caea1a149205"
      },
      "source": [
        "# Convert Population into int\n",
        "def num_only(x):\n",
        "    y = [char for char in x if char.isnumeric()]\n",
        "    return int(\"\".join(y))\n",
        "data[\"Population\"] = data[\"Population\"].apply(num_only)\n",
        "data.head()"
      ],
      "execution_count": 9,
      "outputs": [
        {
          "output_type": "execute_result",
          "data": {
            "text/html": [
              "<div>\n",
              "<style scoped>\n",
              "    .dataframe tbody tr th:only-of-type {\n",
              "        vertical-align: middle;\n",
              "    }\n",
              "\n",
              "    .dataframe tbody tr th {\n",
              "        vertical-align: top;\n",
              "    }\n",
              "\n",
              "    .dataframe thead th {\n",
              "        text-align: right;\n",
              "    }\n",
              "</style>\n",
              "<table border=\"1\" class=\"dataframe\">\n",
              "  <thead>\n",
              "    <tr style=\"text-align: right;\">\n",
              "      <th></th>\n",
              "      <th>Rang</th>\n",
              "      <th>Pays</th>\n",
              "      <th>Population</th>\n",
              "    </tr>\n",
              "  </thead>\n",
              "  <tbody>\n",
              "    <tr>\n",
              "      <th>1</th>\n",
              "      <td>1</td>\n",
              "      <td>Chine</td>\n",
              "      <td>1444216000</td>\n",
              "    </tr>\n",
              "    <tr>\n",
              "      <th>2</th>\n",
              "      <td>2</td>\n",
              "      <td>Inde</td>\n",
              "      <td>1393409000</td>\n",
              "    </tr>\n",
              "    <tr>\n",
              "      <th>3</th>\n",
              "      <td>3</td>\n",
              "      <td>États-Unis</td>\n",
              "      <td>332915000</td>\n",
              "    </tr>\n",
              "    <tr>\n",
              "      <th>4</th>\n",
              "      <td>4</td>\n",
              "      <td>Indonésie</td>\n",
              "      <td>276362000</td>\n",
              "    </tr>\n",
              "    <tr>\n",
              "      <th>5</th>\n",
              "      <td>5</td>\n",
              "      <td>Pakistan</td>\n",
              "      <td>225200000</td>\n",
              "    </tr>\n",
              "  </tbody>\n",
              "</table>\n",
              "</div>"
            ],
            "text/plain": [
              "  Rang        Pays  Population\n",
              "1    1       Chine  1444216000\n",
              "2    2        Inde  1393409000\n",
              "3    3  États-Unis   332915000\n",
              "4    4   Indonésie   276362000\n",
              "5    5    Pakistan   225200000"
            ]
          },
          "metadata": {},
          "execution_count": 9
        }
      ]
    },
    {
      "cell_type": "markdown",
      "metadata": {
        "id": "oy7olG3vPFAB"
      },
      "source": [
        "## 3. Save data"
      ]
    },
    {
      "cell_type": "code",
      "metadata": {
        "id": "mzZ2EsgPO3wt"
      },
      "source": [
        "# Save raw data\n",
        "data.to_csv(DATA, index=False)"
      ],
      "execution_count": 10,
      "outputs": []
    }
  ]
}